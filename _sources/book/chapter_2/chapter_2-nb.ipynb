{
 "cells": [
  {
   "cell_type": "markdown",
   "metadata": {},
   "source": [
    "# Mathematical Foundation of Quantum Computing \n",
    "*by Bernard Ramos*"
   ]
  },
  {
   "cell_type": "markdown",
   "metadata": {},
   "source": [
    "## Learning objective\n",
    "\n",
    "After succesfully completing this unit module, students will understand and be able to apply the working principles of linear algebra that are useful in quantum mechanics and quantum computing."
   ]
  },
  {
   "cell_type": "markdown",
   "metadata": {},
   "source": [
    "## Prerequisite\n",
    "\n",
    "This unit module is designed for independent study and students should be comfortable working with familiar concepts in high school linear algebra such as vectors, matrices, and the three-dimensional coordinate systems."
   ]
  },
  {
   "cell_type": "markdown",
   "metadata": {},
   "source": [
    "## Course content\n",
    "\n",
    "[Introduction](#Introduction)\n",
    "\n",
    "\n",
    "[Vectors](#Vectors) &nbsp;|&nbsp;\n",
    "[Vector spaces](#Vector_spaces) &nbsp;|&nbsp;\n",
    "[Vector subspaces](#Vector_subspaces) &nbsp;|&nbsp;\n",
    "[Inner products](#Inner_products) &nbsp;|&nbsp;\n",
    "[Tensor products](#Tensor_products) &nbsp;|&nbsp;\n",
    "[Linear transformations](#Linear_transformations) &nbsp;|&nbsp;\n",
    "[Some special types of square matrices](#Some_special_types_of_square_matrices) &nbsp;|&nbsp;\n",
    "[Exercises](#Exercises)"
   ]
  },
  {
   "cell_type": "markdown",
   "metadata": {},
   "source": [
    "<a id='Introduction'></a>\n",
    "## Introduction\n",
    "***\n",
    "Linear algebra is the mathematical framework of quantum mechanics---the study of the behavior of quantum states and their transformations. \n",
    "\n",
    "Quantum computing is a field of computer science that harnesses the principles of quantum mechanics to solve computational problems.\n",
    "\n",
    "Hence, it is imperative to understand linear algebra, or more generally of vector spaces, to be able to work with and reason about quantum systems in quantum computation."
   ]
  },
  {
   "cell_type": "markdown",
   "metadata": {},
   "source": [
    "<a id='Vectors'></a>\n",
    "## Vectors\n",
    "***"
   ]
  },
  {
   "attachments": {},
   "cell_type": "markdown",
   "metadata": {},
   "source": [
    "A <b>vector</b> is an ordered list of numbers. The numbers can be real numbers or complex numbers.\n",
    "\n",
    "In elementary mechanics, we defined a vector as a quantity that has magnitude and direction.\n",
    "\n",
    "![vector](./images/vector.png)\r\n",
    ">"
   ]
  },
  {
   "cell_type": "markdown",
   "metadata": {},
   "source": [
    "Examples of physical quantities that can be represented as vectors are displacement, velocity, and force. These physical quantities are typically denoted by bold letters respectively \n",
    "\n",
    "$$\n",
    "\\mathbf{r}, \\quad \\mathbf{v}, \\quad \\text{and} \\quad \\mathbf{F}\n",
    "$$\n",
    "\n",
    "or by letters with arrows above them respectively\n",
    "\n",
    "$$\n",
    "\\vec{r}, \\quad \\vec{v}, \\quad \\text{and} \\quad \\vec{F}\n",
    "$$\n",
    "\n",
    "In quantum mechanics and quantum computing, the state of a system is called a state vector and is denoted by angular brackets:\n",
    "\n",
    "$$\n",
    "\\ket{u}.\n",
    "$$\n",
    "\n",
    "This particular notation for the state vector is called a ket in the Dirac's bra-ket notation."
   ]
  },
  {
   "cell_type": "markdown",
   "metadata": {},
   "source": [
    "<a id='Vector_spaces'></a>\n",
    "## Vector spaces\n",
    "***"
   ]
  },
  {
   "cell_type": "markdown",
   "metadata": {},
   "source": [
    "A <b>vector space</b> $V$ is a set of <b>vectors</b> $v$ which can be added together and scaled by numbers $\\alpha \\in \\mathbb{F}$ called <b>scalars</b>.\n",
    "\n",
    "The set $\\mathbb{F}$ can be the set of the real numbers $\\mathbb{R}$ or the set of complex numbers $\\mathbb{C}$.\n",
    "\n",
    "Let $u, v, w, z \\in V$ and $\\alpha \\in \\mathbb{F}$. The operations in $V$ are\n",
    "\n",
    " - vector addition: $w = u + v$\n",
    " - scalar multiplication: $z = \\alpha u$\n",
    "\n",
    "which satisfy familiar associative, commutative, and distributive properties."
   ]
  },
  {
   "cell_type": "markdown",
   "metadata": {},
   "source": [
    "A vector $v \\in V$ can also be written as a <b>linear combination</b> of some vectors $u_1, u_2, \\cdots, u_n$ in the set $V$ such that for some scalars $\\alpha_1, \\alpha_2, \\cdots, \\alpha_n \\in \\mathbb{F}$,\n",
    "\n",
    "$$\n",
    "v = \\alpha_1 u_1 + \\alpha_2 u_2 + \\cdots + \\alpha_n u_n.\n",
    "$$\n",
    "\n",
    "Consider special subset $B = \\{ u_j \\}_{j=1}^N$ of $V$. If $B$ is <b>linearly independent</b> and if any vector $v$ in our vector space $V$ can be written as a linear combination of vectors in $B$, then $B = \\{ u_j \\}_{j=1}^N$ is a <b>basis set</b>.\n",
    "\n",
    "The <b>dimension</b> of our vector space $V$ is defined as $N$, the number of elements in the basis set $B = \\{ u_j \\}_{j=1}^N$, written $\\dim(V)$.\n",
    "\n",
    "If our scalars in the vector space are real numbers belonging to $\\mathbb{R}$ and the basis is of size $N=2$, the vector space is labelled $\\mathbb{R}^N$. In words, we say that $\\mathbb{R}^N$ is a vector space over $\\mathbb{R}$."
   ]
  },
  {
   "cell_type": "markdown",
   "metadata": {},
   "source": [
    "<font color='#0066CC'>**Example 1.**</font> A basis for the three-dimensional space, also called the <b>Euclidean space</b> and denoted $\\mathbb{R}^3$, is \n",
    "\n",
    "$$\n",
    "\\Bigg\\lbrace\n",
    "\\begin{bmatrix}\n",
    "1 \\\\ 0 \\\\ 0\n",
    "\\end{bmatrix},\n",
    "\\begin{bmatrix}\n",
    "0 \\\\ 1 \\\\ 0\n",
    "\\end{bmatrix},\n",
    "\\begin{bmatrix}\n",
    "0 \\\\ 0 \\\\ 1\n",
    "\\end{bmatrix}\n",
    "\\Bigg\\rbrace\n",
    "$$\n",
    "\n",
    "because it is linearly independent and spans the space. That is, an arbitrary vector $v$  in the vector space $\\mathbb{R}^3$ can be written as \n",
    "\n",
    "$$\n",
    "\\begin{bmatrix}\n",
    "a \\\\ b \\\\ c\n",
    "\\end{bmatrix}\n",
    "= a \\begin{bmatrix}\n",
    "1 \\\\ 0 \\\\ 0\n",
    "\\end{bmatrix}\n",
    "+\n",
    "b \\begin{bmatrix}\n",
    "0 \\\\ 1 \\\\ 0\n",
    "\\end{bmatrix}\n",
    "+\n",
    "c \n",
    "\\begin{bmatrix}\n",
    "0 \\\\ 0 \\\\ 1\n",
    "\\end{bmatrix}\n",
    "$$\n",
    "\n",
    "for any real number $a$, $b$, and $c$. <font color='#0066CC'>&#x25A0;</font>\n"
   ]
  },
  {
   "cell_type": "markdown",
   "metadata": {},
   "source": [
    "<font color='#0066CC'>**Example 2.**</font>  If in the above example, the scalars $a$, $b$, and $c$ are instead complex numbers in $\\mathbb{C}$, then the vector space is $\\mathbb{C}^3$. The space $\\mathbb{C}^3$ is called a <b>complex vector space</b>. <font color='#0066CC'>&#x25A0;</font>"
   ]
  },
  {
   "cell_type": "markdown",
   "metadata": {},
   "source": [
    "<font color='#0066CC'>**Example 3.**</font>  A vector space in quantum mechanics is called a <b>state vector space</b> or simply a <b>state space</b> usually denoted by $\\mathcal{H}$. \n",
    "\n",
    "The members of this state space are the state vectors $\\ket{u}$ and the scalars are complex numbers $\\alpha \\in \\mathbb{C}$.\n",
    "\n",
    "In a <b>qubit state vector space</b>, a basis is $\\{ \\ket{0}, \\ket{1} \\}$. A valid state vector in this space $\\mathcal{H}$ is\n",
    "\n",
    "$$\n",
    "\\ket{w} = 2 \\ket{0} + (1-i)\\ket{1}. \n",
    "$$ \n",
    "\n",
    "<font color='#0066CC'>&#x25A0;</font>"
   ]
  },
  {
   "cell_type": "markdown",
   "metadata": {},
   "source": [
    "<a id='Vector_subspaces'></a>\n",
    "## Vector subspaces\n",
    "***"
   ]
  },
  {
   "cell_type": "markdown",
   "metadata": {},
   "source": [
    "We will sometimes be interested in working with a subset $V'$ of a vector space $V$. If this subset $V'$ has a basis $B'$, then $V'$ is a <b>vector subspace</b> of $V$.\n",
    "\n",
    "<font color='#0066CC'>**Example 4.**</font> An example is the $xy$-Cartesian plane which is a subset of the three-dimensional Euclidean space. It is spanned by the basis\n",
    "\n",
    "$$\n",
    "\\left\\lbrace\n",
    "\\begin{bmatrix}\n",
    "1 \\\\ 0 \\\\ 0\n",
    "\\end{bmatrix},\n",
    "\\begin{bmatrix}\n",
    "0 \\\\ 1 \\\\ 0\n",
    "\\end{bmatrix}\n",
    "\\right\\rbrace.\n",
    "$$ \n",
    "\n",
    "We normally drop the third entry since it is always zero. Hence, any column vector in the $xy$ plane takes the form\n",
    "\n",
    "$$\n",
    "\\begin{bmatrix}\n",
    "a \\\\ b \n",
    "\\end{bmatrix}\n",
    "= a \\begin{bmatrix}\n",
    "1 \\\\ 0 \n",
    "\\end{bmatrix}\n",
    "+\n",
    "b \\begin{bmatrix}\n",
    "0 \\\\ 1 \n",
    "\\end{bmatrix}, \\qquad a, b \\in \\mathbb{R}.\n",
    "$$\n",
    "\n",
    "<font color='#0066CC'>&#x25A0;</font>"
   ]
  },
  {
   "cell_type": "markdown",
   "metadata": {},
   "source": [
    "<a id='Inner_products'></a>\n",
    "## Inner products\n",
    "***"
   ]
  },
  {
   "cell_type": "markdown",
   "metadata": {},
   "source": [
    "If $\\mathbb{F} = \\mathbb{R}$, recall that we associate the dot product to the following form of matrix multiplication \n",
    "\\begin{align*}\n",
    "\\begin{bmatrix}\n",
    "a & b\n",
    "\\end{bmatrix}\n",
    "\\begin{bmatrix}\n",
    "c \\\\ d\n",
    "\\end{bmatrix} = ac + bd \\in \\mathbb{R}.\n",
    "\\end{align*} \n",
    "\n",
    "To introduce the dot product in a vector space consisting of column vectors, we first define the <b>transpose of a column matrix</b> to maintain the above form of matrix multiplication. Transposing a column vector results in a row vector. Suppose $u$ is such vector, then its transpose is denoted $u^T$. "
   ]
  },
  {
   "cell_type": "markdown",
   "metadata": {},
   "source": [
    "<font color='#0066CC'>**Example 5.**</font>  Consider the two column vectors\n",
    "\n",
    "$$\n",
    "u = \\begin{bmatrix}\n",
    "a \\\\ b\n",
    "\\end{bmatrix} \\quad \\text{and} \\quad v = \\begin{bmatrix}\n",
    "c \\\\ d\n",
    "\\end{bmatrix}.\n",
    "$$\n",
    "\n",
    "The transpose of $u$ is $u^T = \\begin{bmatrix}a & b\\end{bmatrix}$ and so the dot product $u^T v$ is given by\n",
    "\n",
    "$$\n",
    "u^T v = \\begin{bmatrix}\n",
    "a & b\n",
    "\\end{bmatrix}\n",
    "\\begin{bmatrix}\n",
    "c \\\\ d\n",
    "\\end{bmatrix} = ac + bd \\in \\mathbb{R}.\n",
    "$$ \n",
    "\n",
    "<font color='#0066CC'>&#x25A0;</font>"
   ]
  },
  {
   "cell_type": "markdown",
   "metadata": {},
   "source": [
    "<i>Question</i>. Suppose $u = \\begin{bmatrix} a \\\\ b \\end{bmatrix}$ is a vector in a vector space $V$. Is $u^T \\in V$? Or is $u^T \\not\\in V$?\n",
    "\n",
    "<i>Answer</i>. The row vector $u^T$ is not in $V$. It lives in another vector space whose elements are row vectors that include $u^T = \\begin{bmatrix}a & b\\end{bmatrix}$. "
   ]
  },
  {
   "cell_type": "markdown",
   "metadata": {},
   "source": [
    "***\n",
    "The <b>inner product</b> is a generalization of the familiar dot product of two vectors beyond the three-dimensional Euclidean space. It maps two vectors $u$ and $v$ to a real number.\n",
    "\n",
    "$$\n",
    "u^T v = \\begin{bmatrix}\n",
    "u_1 & u_2 & \\cdots & u_n\n",
    "\\end{bmatrix}\n",
    "\\begin{bmatrix}\n",
    "v_1 \\\\ v_2 \\\\ \\vdots \\\\ v_n\n",
    "\\end{bmatrix} = u_1v_1 + u_2v_2 + \\cdots + u_nv_n \\in \\mathbb{R} \n",
    "$$\n",
    "\n",
    "If each entry $u_i$, $v_j$ in the column vector $u$, $v$ are complex numbers, we must take the Hermitian conjugate of $u$ instead of simply transposing $u$. The <b>Hermitian conjugate</b> of $u$, which we denote as $u^\\dagger$, is the sequential application of transposition and complex conjugation on $u$. Let $u_i^*$ be the complex conjugate of $u_i$, then  the Hermitian conjugate of $u$ is\n",
    "\n",
    "$$\n",
    "u^\\dagger = (u^T)^* = (u^*)^T = \\begin{bmatrix} u_1^* & u_2^* & \\cdots & u_n^* \\end{bmatrix}. \n",
    "$$\n",
    "\n",
    "The <b>inner product</b> is thus defined as \n",
    "\n",
    "$$\n",
    "u^\\dagger v = \\begin{bmatrix}\n",
    "u_1^* & u_2^* & \\cdots & u_n^*\n",
    "\\end{bmatrix}\n",
    "\\begin{bmatrix}\n",
    "v_1 \\\\ v_2 \\\\ \\vdots \\\\ v_n\n",
    "\\end{bmatrix} = u_1^*v_1 + u_2^*v_2 + \\cdots + u_n^*v_n \\in \\mathbb{C}.\n",
    "$$\n",
    "\n",
    "The above general definition for the inner product guarantees that $u^Tu$ and $v^Tv$ are real numbers. This comes from the fact that each $u_i^*u_i$ and $v_j^*v_j$ are always real numbers so that\n",
    "\n",
    "$$\n",
    "u^\\dagger u = u_1^*u_1 + u_2^*u_2 + \\cdots + u_n^*u_n \\in \\mathbb{R}\n",
    "$$\n",
    "\n",
    "and \n",
    "\n",
    "$$\n",
    "v^\\dagger v = v_1^*v_1 + v_2^*v_2 + \\cdots + v_n^*v_n \\in \\mathbb{R}\n",
    "$$\n",
    "\n",
    "Furthermore, the inner product ensures that $u^\\dagger u$ and $v^\\dagger v$ are nonnegative. Hence, we recover the useful notion of <b>length</b> or <b>norm</b> of a vector which is given by \n",
    "\n",
    "$$\n",
    "\\lVert u \\rVert = \\sqrt{u^\\dagger u}\n",
    "$$\n",
    "\n",
    "for some vector $u$."
   ]
  },
  {
   "cell_type": "markdown",
   "metadata": {},
   "source": [
    "<font color='#0066CC'>**Example 6.**</font>  Let $u = \\begin{bmatrix} 1-i \\\\ 2 \\\\ 3i \\end{bmatrix}$. The complex conjugate $u^*$ is\n",
    "\n",
    "$$\n",
    "u^* = \\begin{bmatrix} 1-i \\\\ 2 \\\\ 3i\\end{bmatrix}^* = \\begin{bmatrix} (1-i)^* \\\\ (2)^* \\\\ (3i)^* \\end{bmatrix} = \\begin{bmatrix} 1+i \\\\ 2 \\\\ -3i \\end{bmatrix}.\n",
    "$$\n",
    "\n",
    "Transposing this column matrix, $(u^*)^T$, we get the Hermitian conjugate $u^\\dagger$ of $u$\n",
    "\n",
    "$$\n",
    "(u^*)^T = \\begin{bmatrix} 1+i \\\\ 2 \\\\ -3i \\end{bmatrix}^T = \\begin{bmatrix} 1+i & 2 & -3i \\end{bmatrix} = u^\\dagger.\n",
    "$$ \n",
    "\n",
    "<font color='#0066CC'>&#x25A0;</font>"
   ]
  },
  {
   "cell_type": "markdown",
   "metadata": {},
   "source": [
    "<font color='#0066CC'>**Example 7.**</font>  Consider the column vector $u$ above. The inner product $u^\\dagger u$ is \n",
    "\n",
    "\\begin{align*}\n",
    "u^\\dagger u &= \\begin{bmatrix} 1+i & 2 & -3i \\end{bmatrix} \\begin{bmatrix} 1-i \\\\ 2 \\\\ 3i \\end{bmatrix} \\\\\n",
    "&= (1+i)(1-i) + (2)(2) + (-3i)(3i) \\\\\n",
    "&= 2 + 4 + 9 \\\\\n",
    "&= 15.\n",
    "\\end{align*}\n",
    "\n",
    "The norm of $u$ is \n",
    "\n",
    "$$\n",
    "\\lVert u \\rVert = \\sqrt{u^\\dagger u} = \\sqrt{15}.\n",
    "$$ \n",
    "\n",
    "<font color='#0066CC'>&#x25A0;</font>"
   ]
  },
  {
   "cell_type": "markdown",
   "metadata": {},
   "source": [
    "<font color='#0066CC'>**Example 8.**</font>  Let $u = \\begin{bmatrix} 1-i \\\\ 2 \\\\ 3i \\end{bmatrix}$ and $v = \\begin{bmatrix} 1 \\\\ 0\\\\ 1 \\end{bmatrix}$. Show that the inner product $v^\\dagger u$ is $1 + 2i$. <font color='#0066CC'>&#x25A0;</font>"
   ]
  },
  {
   "cell_type": "markdown",
   "metadata": {},
   "source": [
    "In quantum mechanics and quantum computing, the state space $\\mathcal{H}$ is a complex vector space, that is, the scalars of the vector space are complex numbers.\n",
    "\n",
    "The inner product is defined by\n",
    "\n",
    "$$\n",
    "\\ket{u}^\\dagger \\ket{v} = \\braket{u}{v} \\in \\mathbb{C}\n",
    "$$\n",
    "\n",
    "A vector space endowed with an inner product is called an <b>inner product space</b>.\n",
    "\n",
    "If $\\braket{u}{v} = 0$, then $\\ket{u}$ and $\\ket{v}$ are <b>orthogonal</b> to each other."
   ]
  },
  {
   "cell_type": "markdown",
   "metadata": {},
   "source": [
    "<a id='Tensor_products'></a>\n",
    "## Tensor products\n",
    "***"
   ]
  },
  {
   "cell_type": "markdown",
   "metadata": {},
   "source": [
    "Another vector multiplication that is defined for any pair of column matrices is the <b>tensor product</b>. Consider two vectors $u_1 \\in V_1$ and $u_2 \\in V_2$\n",
    "\n",
    "$$\n",
    "u_1 = \\begin{bmatrix}\n",
    "a_1 \\\\ b_1\n",
    "\\end{bmatrix} \\quad \\text{and} \\quad u_2 = \\begin{bmatrix}\n",
    "a_2 \\\\ b_2\n",
    "\\end{bmatrix}.\n",
    "$$\n",
    "\n",
    "The tensor product $u_1 \\otimes u_2 \\in V_1 \\otimes V_2$ is given by\n",
    "\n",
    "$$\n",
    "u_1 \\otimes u_2 = \\begin{bmatrix}\n",
    "a_1 \\\\ b_1\n",
    "\\end{bmatrix} \\otimes \\begin{bmatrix}\n",
    "a_2 \\\\ b_2\n",
    "\\end{bmatrix} =\n",
    "\\begin{bmatrix}\n",
    "a_1a_2 \\\\ a_1b_2 \\\\ b_1a_2 \\\\ b_1b_2 \\end{bmatrix} \n",
    "$$\n",
    "\n",
    "Notice that tensor product produces a vector with larger dimension. In the above example, the dimension of $V_1$ is $\\dim(V_1)=2$ while $\\dim(V_2)=2$ so that the dimension of the resulting tensor product space $V_1 \\otimes V_2$ is\n",
    "\n",
    "$$\n",
    "\\dim(V_1 \\otimes V_2) = \\dim(V_1) \\dim(V_2) = 4.\n",
    "$$\n",
    "\n",
    "Tensor products are used to build new vector spaces from smaller vector spaces. Tensor product spaces are employed in the description of composite quantum states in quantum computing."
   ]
  },
  {
   "cell_type": "markdown",
   "metadata": {},
   "source": [
    "<font color='#0066CC'>**Example 9.**</font>  In qubit quantum computing, the basis vectors $\\ket{0}, \\ket{1} \\in \\mathcal{H}$ acquires the column matrix representation \n",
    "\n",
    "$$\n",
    "\\ket{0} =\n",
    "\\begin{bmatrix}\n",
    "1 \\\\ 0\n",
    "\\end{bmatrix} \\quad \\text{and} \\quad \\ket{1} =\n",
    "\\begin{bmatrix}\n",
    "0 \\\\ 1\n",
    "\\end{bmatrix}.\n",
    "$$\n",
    "\n",
    "A basis for $\\mathcal{H} \\otimes \\mathcal{H}$ is\n",
    "\n",
    "$$\n",
    "\\left\\lbrace\n",
    "\\begin{bmatrix}\n",
    "1 \\\\ 0 \\\\ 0 \\\\ 0\n",
    "\\end{bmatrix},\n",
    "\\begin{bmatrix}\n",
    "0 \\\\ 1 \\\\ 0 \\\\ 0\n",
    "\\end{bmatrix},\n",
    "\\begin{bmatrix}\n",
    "0 \\\\ 0 \\\\ 1 \\\\ 0\n",
    "\\end{bmatrix},\n",
    "\\begin{bmatrix}\n",
    "0 \\\\ 0 \\\\ 0 \\\\ 1\n",
    "\\end{bmatrix}\n",
    "\\right\\rbrace.\n",
    "$$\n",
    "\n",
    "Show that this is equivalent to $\\{ \\ket{0}\\otimes \\ket{0}, \\ket{0}\\otimes \\ket{1}, \\ket{1}\\otimes \\ket{0}, \\ket{1}\\otimes \\ket{1} \\}$."
   ]
  },
  {
   "cell_type": "markdown",
   "metadata": {},
   "source": [
    "<i>Hint</i>. The tensor product $\\ket{0}\\otimes \\ket{0}$ is solved as follows.\n",
    "\n",
    "\\begin{align*}\n",
    "\\ket{0} \\otimes \\ket{0} &= \\begin{bmatrix} 1 \\\\ 0 \\end{bmatrix} \\otimes \\begin{bmatrix} 1 \\\\ 0 \\end{bmatrix} \\\\\n",
    "&= \\begin{bmatrix} 1 \\begin{bmatrix} 1 \\\\ 0 \\end{bmatrix}  \\\\ 0 \\begin{bmatrix} 1 \\\\ 0 \\end{bmatrix} \\end{bmatrix} \\\\\n",
    "&= \\begin{bmatrix} 1 \\\\ 0 \\\\ 0 \\\\ 0 \\end{bmatrix}.\n",
    "\\end{align*} <font color='#0066CC'>&#x25A0;</font>"
   ]
  },
  {
   "cell_type": "markdown",
   "metadata": {},
   "source": [
    "<a id='Linear_transformations'></a>\n",
    "## Linear transformations\n",
    "***"
   ]
  },
  {
   "cell_type": "markdown",
   "metadata": {},
   "source": [
    "A <b>linear transformation</b> between two vector spaces $V$ and $W$ is a map $T : V \\to W$ such that the following hold\n",
    "\n",
    "\\begin{align*}\n",
    "T(x_1 + x_2) &= T(x_1) + T(x_2) \\text{  for any vectors } x_1, x_2 \\in V \\\\\n",
    "T(\\alpha x ) &= \\alpha T(x) \\text{ for any scalar } \\alpha.\n",
    "\\end{align*}\n",
    "\n",
    "<b>Matrix multiplication</b> is a linear transformation. \n",
    "\n",
    "Let $A$ be an $n \\times m$ matrix. The linear transformation in matrix language is given by\n",
    "\n",
    "$$\n",
    "T(v) = Av\n",
    "$$\n",
    "\n",
    "for some $n \\times 1$ column vector $v$.\n"
   ]
  },
  {
   "cell_type": "markdown",
   "metadata": {},
   "source": [
    "Matrices are sometimes referred to as <b>linear operators</b> because they act to transform a column vector to another vector in the vector space.\n",
    "\n",
    "Consider the $2 \\times 2$ matrix \n",
    "\n",
    "$$\n",
    "M = \n",
    "\\begin{bmatrix}\n",
    "a & b \\\\ c & d\n",
    "\\end{bmatrix}.\n",
    "$$\n",
    "\n",
    "Given a $2 \\times 1$ column vector $\\begin{bmatrix} y \\\\ z \\end{bmatrix} \\in \\mathbb{F}^2$, the plane transformation $T : \\mathbb{F}^2 \\to \\mathbb{F}^2$ is given by\n",
    "\n",
    "\\begin{align*}\n",
    "T(x) = M x = \\begin{bmatrix}\n",
    "a & b \\\\ c & d\n",
    "\\end{bmatrix} \n",
    "\\begin{bmatrix}\n",
    "y \\\\ z\n",
    "\\end{bmatrix} =\n",
    "\\begin{bmatrix}\n",
    "ay + bz \\\\ cy + dz\n",
    "\\end{bmatrix} \n",
    "\\end{align*}"
   ]
  },
  {
   "cell_type": "markdown",
   "metadata": {
    "tags": []
   },
   "source": [
    "<font color='#0066CC'>**Example 10.**</font> Let $ u = \\begin{bmatrix} 2 \\\\ 8 \\end{bmatrix} \\in \\mathbb{R}^2$ and consider the linear operation by $M = \\begin{bmatrix}\n",
    "1 & -1\\\\ 0 & \\phantom{-}1\n",
    "\\end{bmatrix}$. Show that \n",
    "\n",
    "$$\n",
    "M u = 2\n",
    "\\begin{bmatrix}\n",
    "-3 \\\\ \\phantom{-}4\n",
    "\\end{bmatrix}\n",
    "$$\n",
    "\n",
    "<font color='#0066CC'>&#x25A0;</font>"
   ]
  },
  {
   "cell_type": "markdown",
   "metadata": {},
   "source": [
    "We can also take the <b>composition of two linear transformations</b>. Suppose we have the transformations $T : V \\to W$ and $S : W \\to X$. Then the transformation $U : V \\to X$ is a linear transformation where $U$ is the composite operator $U = S \\circ T$. That is\n",
    "\n",
    "$$\n",
    "S \\circ T : V \\to X.\n",
    "$$\n",
    "\n",
    "In the case of matrices, $S \\circ T$ is simply the matrix multiplcation $S T$."
   ]
  },
  {
   "cell_type": "markdown",
   "metadata": {
    "tags": []
   },
   "source": [
    "<font color='#0066CC'>**Example 11.**</font> Suppose the matrix representation of $T$ is $\\begin{bmatrix}\n",
    "1 & -1\\\\ 0 & \\phantom{-}1 \\end{bmatrix}$ and of $S$ is $\\begin{bmatrix} 1 & 4\\\\ 9 & 7 \\end{bmatrix}$. Then, the composite $S \\circ T = ST$ is given by\n",
    "\n",
    "\\begin{align*}\n",
    "ST &= \n",
    "\\begin{bmatrix} 1 & 4\\\\ 9 & 7 \\end{bmatrix} \\begin{bmatrix}\n",
    "1 & -1\\\\ 0 & \\phantom{-}1 \\end{bmatrix} \\\\\n",
    "&= \n",
    "\\begin{bmatrix} (1)(1) + (4)(0) & (1)(-1) + (4)(1)\\\\ (9)(1) + (7)(0) & (9)(-1) + (7)(1) \\end{bmatrix} \\\\\n",
    "&= \n",
    "\\begin{bmatrix} 5 & \\phantom{-}3\\\\ 16 & -2 \\end{bmatrix}.\n",
    "\\end{align*}\n",
    "\n",
    "Is $ST = TS$? If this is true then we say the matrix for $S$ <b>commutes</b> with that of $T$. \n",
    "<font color='#0066CC'>&#x25A0;</font>"
   ]
  },
  {
   "cell_type": "markdown",
   "metadata": {},
   "source": [
    "For matrices, the composition is only defined if the number of columns in the matrix representation of $S$ is equal to the number of rows in the matrix of $T$. That is, the matrix operator for $S \\circ T$ is well-defined if $T : \\mathbb{F}^n \\to \\mathbb{F}^m$ and $S : \\mathbb{F}^m \\to \\mathbb{F}^l$ where $m, n, l$ are positive integers and $\\mathbb{F}$ is the set of real numbers or the set of complex numbers.\n",
    "\n",
    "The above implies that the order of matrix implication is important."
   ]
  },
  {
   "cell_type": "markdown",
   "metadata": {
    "tags": []
   },
   "source": [
    "<font color='#0066CC'>**Example 12.**</font> Consider the following matrices \n",
    "\n",
    "$$\n",
    "M =\n",
    "\\begin{bmatrix}\n",
    "6 & -1\\\\ 0 & \\phantom{-}1 \\end{bmatrix}, \n",
    "\\quad \n",
    "N = \\begin{bmatrix} 3 & 0.6 & 5 \\\\ 0 & 1 & 9 \\end{bmatrix},\n",
    "\\quad\n",
    "P = \\begin{bmatrix} 1 & 0.8 \\\\ 1 & 7 \\\\ 0 & 4 \\end{bmatrix}\n",
    "$$\n",
    "\n",
    "Which of the following matrix multiplications is well-defined?\n",
    "\n",
    "$$\n",
    "MP, \\quad PM, \\quad MM, \\quad NN, \\quad MP, \\quad \\text{or} \\quad PN? \n",
    "$$\n",
    "\n",
    "<font color='#0066CC'>&#x25A0;</font>"
   ]
  },
  {
   "cell_type": "markdown",
   "metadata": {},
   "source": [
    "<a id='Some_special_types_of_square_matrices'></a>\n",
    "## Some special types of square matrices\n",
    "***"
   ]
  },
  {
   "cell_type": "markdown",
   "metadata": {},
   "source": [
    "In quantum computing, we usually encounter $2 \\times 2$ matrices or the tensor product of $2 \\times 2$ matrices.\n",
    "\n",
    "The most common types of $2 \\times 2$ matrices we need in later chapters of this book are as follows."
   ]
  },
  {
   "cell_type": "markdown",
   "metadata": {},
   "source": [
    "Let $a_{ij}$ be entry at row $i$ and column $j$ of an $n \\times n$ matrix $A$. This matrix $A = [a_{ij}]$ is called a <b>square matrix</b>.\n",
    "\n",
    "- $A$ is an identity matrix, denoted by $I$, if $a_{ii} = 1$. Example: $\\begin{bmatrix}\n",
    "1 & 0 \\\\ 0 & 1\n",
    "\\end{bmatrix}$\n",
    "\n",
    "- The inverse of a matrix $A$ is $A^{-1}$ such that $A A^{-1} = A^{-1} A = I$\n",
    "\n",
    "- $A$ is Hermitian iff $A^\\dagger = A$. Example: $A = \\begin{bmatrix}\n",
    "1 & 1+i \\\\ 1 - i & 2\n",
    "\\end{bmatrix}$ \n",
    "\n",
    "- $A$ is orthogonal iff $AA^T = A^T A = I$. Example: $A = \\begin{bmatrix}\n",
    "-1 & 0 \\\\ \\phantom{-}0 & 1\n",
    "\\end{bmatrix}$\n",
    "\n",
    "- $A$ is unitary iff $AA^\\dagger = A^\\dagger A = I$. Example: $A = \\begin{bmatrix}\n",
    "-i & 0 \\\\ \\phantom{-}0 & 1\n",
    "\\end{bmatrix}$"
   ]
  },
  {
   "cell_type": "markdown",
   "metadata": {},
   "source": [
    "<font color='#0066CC'>**Example 13.**</font> Let us show that the inverse of $I = \\begin{bmatrix}\n",
    "1 & 0 \\\\ 0 & 1 \\end{bmatrix}$ is itself $I$. Similarly, the inverse of $M = \\begin{bmatrix}\n",
    "0 & 3 \\\\ 1 & 2 \\end{bmatrix}$ is $M^{-1} = \\begin{bmatrix} -2/3 & 1 \\\\ 1/3 & 0 \\end{bmatrix}$.\n",
    "\n",
    "We will follow the definition of an inverse of a matrix. If $I^{-1} = I$, then\n",
    "\n",
    "$$\n",
    "I I^{-1} = I^{-1} I =  I I = I\n",
    "$$\n",
    "\n",
    "hence $I$ is the inverse of $I$. For the second case, we also need to show that $M M^{-1} = M^{-1} M = I$\n",
    "\n",
    "\\begin{align*}\n",
    "M M^{-1} = \\begin{bmatrix}\n",
    "0 & 3 \\\\ 1 & 2 \\end{bmatrix}\n",
    "\\begin{bmatrix} -2/3 & 1 \\\\ 1/3 & 0 \\end{bmatrix} = \\begin{bmatrix}\n",
    "1 & 0 \\\\ 0 & 1 \\end{bmatrix}\n",
    "\\end{align*}\n",
    "\\begin{align*}\n",
    "M^{-1} M  = \n",
    "\\begin{bmatrix} -2/3 & 1 \\\\ 1/3 & 0 \\end{bmatrix} \n",
    "\\begin{bmatrix}\n",
    "0 & 3 \\\\ 1 & 2 \\end{bmatrix}\n",
    " = \\begin{bmatrix}\n",
    "1 & 0 \\\\ 0 & 1 \\end{bmatrix}\n",
    "\\end{align*}\n",
    "\n",
    "From our high school linear algebra we know that the inverse of a matrix exists if its determinant is nonzero.\n",
    "<font color='#0066CC'>&#x25A0;</font>"
   ]
  },
  {
   "cell_type": "markdown",
   "metadata": {
    "tags": []
   },
   "source": [
    "<font color='#0066CC'>**Example 13.**</font> Show that $I = \\begin{bmatrix}\n",
    "1 & 0 \\\\ 0 & 1 \\end{bmatrix}$ is Hermitian, orthogonal, and unitary.\n",
    "<font color='#0066CC'>&#x25A0;</font>"
   ]
  },
  {
   "cell_type": "markdown",
   "metadata": {},
   "source": [
    "<a id='Exercises'></a>\n",
    "## Exercises\n",
    "***"
   ]
  },
  {
   "cell_type": "markdown",
   "metadata": {
    "tags": []
   },
   "source": [
    "<font color='#0066CC'>**Exercise 1.**</font> Consider the vector space $\\mathbb{R}^2$. Let its basis be \n",
    "\n",
    "$$\n",
    "B = \n",
    "\\left\\{\n",
    "\\frac{1}{\\sqrt{2}}\n",
    "\\begin{bmatrix}\n",
    "1 \\\\ 1\n",
    "\\end{bmatrix},\n",
    "\\frac{1}{\\sqrt{2}}\n",
    "\\begin{bmatrix}\n",
    "\\phantom{-}1 \\\\ -1\n",
    "\\end{bmatrix}\n",
    "\\right\\}.\n",
    "$$\n",
    "\n",
    "If $a, b$ are real numbers, does the vector $w$ defined by\n",
    "\n",
    "$$\n",
    "w = a \\frac{1}{\\sqrt{2}}\n",
    "\\begin{bmatrix}\n",
    "1 \\\\ 1\n",
    "\\end{bmatrix} \n",
    "+ b \\frac{1}{\\sqrt{2}}\n",
    "\\begin{bmatrix}\n",
    "\\phantom{-}1 \\\\ -1\n",
    "\\end{bmatrix}\n",
    "$$\n",
    "\n",
    "belong to the vector space  $\\mathbb{R}^2$? What if $a, b$ are complex numbers? "
   ]
  },
  {
   "cell_type": "markdown",
   "metadata": {
    "tags": []
   },
   "source": [
    "<font color='#0066CC'>**Exercise 2.**</font> Suppose we are given a basis \n",
    "\n",
    "$$\n",
    "B = \n",
    "\\left\\{\n",
    "\\begin{bmatrix}\n",
    "1 \\\\ 0\n",
    "\\end{bmatrix},\n",
    "\\begin{bmatrix}\n",
    "0 \\\\ i\n",
    "\\end{bmatrix}\n",
    "\\right\\}\n",
    "$$\n",
    "\n",
    "for some vector space $V$. Let $a, b$ be real numbers. Does the vector \n",
    "\n",
    "$$\n",
    "w = a \n",
    "\\begin{bmatrix}\n",
    "1 \\\\ 0\n",
    "\\end{bmatrix} \n",
    "+ b\n",
    "\\begin{bmatrix}\n",
    "0 \\\\ i\n",
    "\\end{bmatrix}\n",
    "$$\n",
    "\n",
    "live in the vector space  $\\mathbb{R}^2$ or $\\mathbb{C}^2$? "
   ]
  },
  {
   "cell_type": "markdown",
   "metadata": {},
   "source": [
    "<font color='#0066CC'>**Exercise 3.**</font> Consider the set\n",
    "\n",
    "$$\n",
    "B = \n",
    "\\left\\{\n",
    "\\frac{1}{\\sqrt{2}}\n",
    "\\begin{bmatrix}\n",
    "1 \\\\ 1\n",
    "\\end{bmatrix},\n",
    "\\frac{1}{\\sqrt{2}}\n",
    "\\begin{bmatrix}\n",
    "\\phantom{-}1 \\\\ -1\n",
    "\\end{bmatrix}\n",
    "\\right\\}.\n",
    "$$\n",
    "\n",
    "Are the vectors in $B$ orthogonal to each other? What is the inner product of the two vectors? What about the norm?"
   ]
  },
  {
   "cell_type": "markdown",
   "metadata": {
    "tags": []
   },
   "source": [
    "<font color='#0066CC'>**Exercise 4.**</font> Let $u, v \\in \\mathbb{R}^2$ given by\n",
    "\n",
    "$$\n",
    "u = \\begin{bmatrix}\n",
    "1 \\\\ 0\n",
    "\\end{bmatrix} \\quad \n",
    "v = \\frac{1}{\\sqrt{2}}\n",
    "\\begin{bmatrix}\n",
    "1 \\\\ 1\n",
    "\\end{bmatrix}.\n",
    "$$\n",
    "\n",
    "Find the inner product $u^T v$ and the tensor product $u \\otimes v$. Is $u \\otimes v = v \\otimes u$?"
   ]
  },
  {
   "cell_type": "markdown",
   "metadata": {
    "tags": []
   },
   "source": [
    "<font color='#0066CC'>**Exercise 5.**</font> Consider the matrices given in Example 12\n",
    "\n",
    "$$\n",
    "M =\n",
    "\\begin{bmatrix}\n",
    "6 & -1\\\\ 0 & \\phantom{-}1 \\end{bmatrix}, \n",
    "\\quad \n",
    "N = \\begin{bmatrix} 3 & 0.6 & 5 \\\\ 0 & 1 & 9 \\end{bmatrix},\n",
    "\\quad\n",
    "P = \\begin{bmatrix} 1 & 0.8 \\\\ 1 & 7 \\\\ 0 & 4 \\end{bmatrix}.\n",
    "$$\n",
    "\n",
    "Find $MM$ and $PN$."
   ]
  },
  {
   "cell_type": "code",
   "execution_count": null,
   "metadata": {},
   "outputs": [],
   "source": []
  }
 ],
 "metadata": {
  "kernelspec": {
   "display_name": "Python 3",
   "language": "python",
   "name": "python3"
  },
  "language_info": {
   "codemirror_mode": {
    "name": "ipython",
    "version": 3
   },
   "file_extension": ".py",
   "mimetype": "text/x-python",
   "name": "python",
   "nbconvert_exporter": "python",
   "pygments_lexer": "ipython3",
   "version": "3.9.17"
  }
 },
 "nbformat": 4,
 "nbformat_minor": 4
}
